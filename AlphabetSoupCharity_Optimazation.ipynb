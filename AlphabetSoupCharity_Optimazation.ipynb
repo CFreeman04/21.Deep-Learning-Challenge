{
 "cells": [
  {
   "cell_type": "code",
   "execution_count": null,
   "metadata": {},
   "outputs": [],
   "source": []
  }
 ],
 "metadata": {
  "kernelspec": {
   "display_name": "base",
   "language": "python",
   "name": "python3"
  },
  "language_info": {
   "name": "python",
   "version": "3.9.12"
  },
  "orig_nbformat": 4,
  "vscode": {
   "interpreter": {
    "hash": "c10e1a588cdedcdf9acdf1b2675e871fe5f6deac27f676eec55fc8f448be1390"
   }
  }
 },
 "nbformat": 4,
 "nbformat_minor": 2
}
